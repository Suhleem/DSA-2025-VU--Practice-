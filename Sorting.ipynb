{
 "cells": [
  {
   "cell_type": "markdown",
   "id": "fe70f461-d43f-4069-a8b2-144652d4b4c9",
   "metadata": {},
   "source": [
    "###  Selection Sort\n",
    "- Works by repeatedly finding the minimum element from unsorted part and putting it at the beginning\n",
    "- Maintains two subarrays: sorted (left) and unsorted (right)\n",
    "- Time Complexity: O(n²) in all cases\n"
   ]
  },
  {
   "cell_type": "code",
   "execution_count": 1,
   "id": "0a1e1799-ce33-4a71-a5f4-48a0ffb7aca6",
   "metadata": {},
   "outputs": [
    {
     "name": "stdout",
     "output_type": "stream",
     "text": [
      "Selection Sort: [11, 12, 22, 25, 64]\n"
     ]
    }
   ],
   "source": [
    "def selection_sort(arr):\n",
    "    # Traverse through all array elements\n",
    "    for i in range(len(arr)):\n",
    "        # Find the minimum element in remaining unsorted array\n",
    "        min_idx = i\n",
    "        for j in range(i+1, len(arr)):\n",
    "            if arr[j] < arr[min_idx]:\n",
    "                min_idx = j\n",
    "        \n",
    "        # Swap the found minimum element with the first element\n",
    "        arr[i], arr[min_idx] = arr[min_idx], arr[i]\n",
    "    \n",
    "    return arr\n",
    "\n",
    "# Example usage\n",
    "arr = [64, 25, 12, 22, 11]\n",
    "print(\"Selection Sort:\", selection_sort(arr.copy()))"
   ]
  },
  {
   "cell_type": "markdown",
   "id": "3b69d77d-5f21-4a74-8a50-13d0fedb3437",
   "metadata": {},
   "source": [
    "### Bubble Sort\n",
    "- Repeatedly steps through the list, compares adjacent elements and swaps them if in wrong order\n",
    "- Each pass through the list places the next largest value in its proper place\n",
    "- Time Complexity: O(n²) worst and average, O(n) best (if already sorted)"
   ]
  },
  {
   "cell_type": "code",
   "execution_count": 3,
   "id": "09f38fc2-d97f-4dae-87c4-1fcd72985a16",
   "metadata": {},
   "outputs": [
    {
     "name": "stdout",
     "output_type": "stream",
     "text": [
      "Bubble Sort: [11, 12, 22, 25, 34, 64, 90]\n"
     ]
    }
   ],
   "source": [
    "def bubble_sort(arr):\n",
    "    n = len(arr)\n",
    "    # Traverse through all array elements\n",
    "    for i in range(n):\n",
    "        # Last i elements are already in place\n",
    "        for j in range(0, n-i-1):\n",
    "            # Traverse from 0 to n-i-1, swap if element found is greater\n",
    "            if arr[j] > arr[j+1]:\n",
    "                arr[j], arr[j+1] = arr[j+1], arr[j]\n",
    "    \n",
    "    return arr\n",
    "\n",
    "# Example usage\n",
    "arr = [64, 34, 25, 12, 22, 11, 90]\n",
    "print(\"Bubble Sort:\", bubble_sort(arr.copy()))"
   ]
  },
  {
   "cell_type": "markdown",
   "id": "59e910b1-aa8f-4ada-b887-77b1ceb86826",
   "metadata": {},
   "source": [
    "### Insertion Sort\n",
    "- Builds the final sorted array one item at a time\n",
    "- Efficient for small data sets or nearly sorted data\n",
    "- Time Complexity: O(n²) worst and average, O(n) best"
   ]
  },
  {
   "cell_type": "code",
   "execution_count": 5,
   "id": "78a70443-eae4-49b4-a1ac-5faa73d1ee34",
   "metadata": {},
   "outputs": [
    {
     "name": "stdout",
     "output_type": "stream",
     "text": [
      "Insertion Sort: [5, 6, 11, 12, 13]\n"
     ]
    }
   ],
   "source": [
    "def insertion_sort(arr):\n",
    "    # Traverse through 1 to len(arr)\n",
    "    for i in range(1, len(arr)):\n",
    "        key = arr[i]  # Current element to be inserted\n",
    "        j = i-1\n",
    "        # Move elements of arr[0..i-1] that are greater than key\n",
    "        # to one position ahead of their current position\n",
    "        while j >= 0 and key < arr[j]:\n",
    "            arr[j+1] = arr[j]\n",
    "            j -= 1\n",
    "        arr[j+1] = key  # Insert the key in correct position\n",
    "    \n",
    "    return arr\n",
    "\n",
    "# Example usage\n",
    "arr = [12, 11, 13, 5, 6]\n",
    "print(\"Insertion Sort:\", insertion_sort(arr.copy()))"
   ]
  },
  {
   "cell_type": "markdown",
   "id": "faae92e2-bae6-4e5d-b351-a62685c085ec",
   "metadata": {},
   "source": [
    "### Radix sort\n",
    "- Non-comparative integer sorting algorithm\n",
    "- Sorts numbers digit by digit starting from least significant digit to most\n",
    "- Uses counting sort as a subroutine\n",
    "- Time Complexity: O(nk) where k is number of digits"
   ]
  },
  {
   "cell_type": "code",
   "execution_count": 7,
   "id": "55bc9b42-3b9a-4443-a430-214162bf19af",
   "metadata": {},
   "outputs": [
    {
     "name": "stdout",
     "output_type": "stream",
     "text": [
      "Radix Sort: [2, 24, 45, 66, 75, 90, 170, 802]\n"
     ]
    }
   ],
   "source": [
    "def counting_sort(arr, exp):\n",
    "    n = len(arr)\n",
    "    output = [0] * n\n",
    "    count = [0] * 10\n",
    "    \n",
    "    # Store count of occurrences in count[]\n",
    "    for i in range(n):\n",
    "        index = arr[i] // exp\n",
    "        count[index % 10] += 1\n",
    "    \n",
    "    # Change count[i] so it contains actual position\n",
    "    for i in range(1, 10):\n",
    "        count[i] += count[i-1]\n",
    "    \n",
    "    # Build the output array\n",
    "    i = n - 1\n",
    "    while i >= 0:\n",
    "        index = arr[i] // exp\n",
    "        output[count[index % 10] - 1] = arr[i]\n",
    "        count[index % 10] -= 1\n",
    "        i -= 1\n",
    "    \n",
    "    # Copy the output array to arr[]\n",
    "    for i in range(n):\n",
    "        arr[i] = output[i]\n",
    "\n",
    "def radix_sort(arr):\n",
    "    # Find the maximum number to know number of digits\n",
    "    max_num = max(arr)\n",
    "    \n",
    "    # Do counting sort for every digit\n",
    "    exp = 1\n",
    "    while max_num // exp > 0:\n",
    "        counting_sort(arr, exp)\n",
    "        exp *= 10\n",
    "    \n",
    "    return arr\n",
    "\n",
    "# Example usage\n",
    "arr = [170, 45, 75, 90, 802, 24, 2, 66]\n",
    "print(\"Radix Sort:\", radix_sort(arr.copy()))"
   ]
  },
  {
   "cell_type": "markdown",
   "id": "d94edbfc-12eb-4a22-9bb4-bc93a6d9031d",
   "metadata": {},
   "source": [
    "### Merge sort\n",
    "- Divide and conquer algorithm\n",
    "- Recursively divides the array into halves until base case of single element\n",
    "- Merges the sorted halves back together\n",
    "- Time Complexity: O(n log n) in all cases"
   ]
  },
  {
   "cell_type": "code",
   "execution_count": 9,
   "id": "b904f15c-1743-467a-9ad6-ac10bf6a4cb4",
   "metadata": {},
   "outputs": [
    {
     "name": "stdout",
     "output_type": "stream",
     "text": [
      "Merge Sort: [3, 9, 10, 27, 38, 43, 82]\n"
     ]
    }
   ],
   "source": [
    "def merge_sort(arr):\n",
    "    if len(arr) > 1:\n",
    "        # Finding the mid of the array\n",
    "        mid = len(arr) // 2\n",
    "        # Dividing the array elements into 2 halves\n",
    "        L = arr[:mid]\n",
    "        R = arr[mid:]\n",
    "        \n",
    "        # Sorting the first half\n",
    "        merge_sort(L)\n",
    "        # Sorting the second half\n",
    "        merge_sort(R)\n",
    "        \n",
    "        i = j = k = 0\n",
    "        \n",
    "        # Copy data to temp arrays L[] and R[]\n",
    "        while i < len(L) and j < len(R):\n",
    "            if L[i] < R[j]:\n",
    "                arr[k] = L[i]\n",
    "                i += 1\n",
    "            else:\n",
    "                arr[k] = R[j]\n",
    "                j += 1\n",
    "            k += 1\n",
    "        \n",
    "        # Checking if any element was left\n",
    "        while i < len(L):\n",
    "            arr[k] = L[i]\n",
    "            i += 1\n",
    "            k += 1\n",
    "        \n",
    "        while j < len(R):\n",
    "            arr[k] = R[j]\n",
    "            j += 1\n",
    "            k += 1\n",
    "    \n",
    "    return arr\n",
    "\n",
    "# Example usage\n",
    "arr = [38, 27, 43, 3, 9, 82, 10]\n",
    "print(\"Merge Sort:\", merge_sort(arr.copy()))"
   ]
  },
  {
   "cell_type": "markdown",
   "id": "600f0009-58f8-4d6b-a6ee-36ca9945186f",
   "metadata": {},
   "source": [
    "### Quick sort\n",
    "- Divide and conquer algorithm\n",
    "- Selects a 'pivot' element and partitions the array around the pivot\n",
    "- Recursively sorts the subarrays before and after the partition\n",
    "- Time Complexity: O(n log n) average, O(n²) worst case"
   ]
  },
  {
   "cell_type": "code",
   "execution_count": null,
   "id": "c2b053fc-9ee2-4896-9eb3-e4b307fc9f3f",
   "metadata": {},
   "outputs": [],
   "source": [
    "def partition(arr, low, high):\n",
    "    # Choose the rightmost element as pivot\n",
    "    pivot = arr[high]\n",
    "    # Pointer for greater element\n",
    "    i = low - 1\n",
    "    \n",
    "    # Traverse through all elements\n",
    "    for j in range(low, high):\n",
    "        # If current element is smaller than pivot\n",
    "        if arr[j] <= pivot:\n",
    "            # Increment pointer and swap\n",
    "            i += 1\n",
    "            arr[i], arr[j] = arr[j], arr[i]\n",
    "    \n",
    "    # Swap the pivot element with the greater element\n",
    "    arr[i+1], arr[high] = arr[high], arr[i+1]\n",
    "    # Return the position from where partition is done\n",
    "    return i + 1\n",
    "\n",
    "def quick_sort(arr, low, high):\n",
    "    if low < high:\n",
    "        # Find pivot element such that\n",
    "        # element smaller than pivot are on the left\n",
    "        # element greater than pivot are on the right\n",
    "        pi = partition(arr, low, high)\n",
    "        \n",
    "        # Recursive call on the left of pivot\n",
    "        quick_sort(arr, low, pi - 1)\n",
    "        # Recursive call on the right of pivot\n",
    "        quick_sort(arr, pi + 1, high)\n",
    "    \n",
    "    return arr\n",
    "\n",
    "# Example usage (wrapper function for cleaner interface)\n",
    "def quick_sort_wrapper(arr):\n",
    "    return quick_sort(arr, 0, len(arr)-1)\n",
    "\n",
    "arr = [10, 7, 8, 9, 1, 5]\n",
    "print(\"Quick Sort:\", quick_sort_wrapper(arr.copy()))"
   ]
  },
  {
   "cell_type": "markdown",
   "id": "55cfcb68-4f3b-43dc-986b-e64d87688b8f",
   "metadata": {},
   "source": [
    "### Heap Sort\n",
    "- A comparison-based sorting algorithm that uses a binary heap data structure.\n",
    "- It has O(n log n) time complexity in all cases\n",
    "- Efficient for large datasets."
   ]
  },
  {
   "cell_type": "code",
   "execution_count": 28,
   "id": "3f66a9c0-503b-44c5-a9f2-ab5e71a31225",
   "metadata": {},
   "outputs": [
    {
     "name": "stdout",
     "output_type": "stream",
     "text": [
      "Original array: [12, 11, 13, 5, 6, 7]\n",
      "Sorted array: [5, 6, 7, 11, 12, 13]\n"
     ]
    }
   ],
   "source": [
    "def heapify(arr, n, i):\n",
    "    \"\"\"\n",
    "    Heapify a subtree rooted at index i.\n",
    "    n is size of the heap.\n",
    "    \"\"\"\n",
    "    largest = i  # Initialize largest as root\n",
    "    left = 2 * i + 1  # Left child index\n",
    "    right = 2 * i + 2  # Right child index\n",
    "\n",
    "    # If left child exists and is greater than root\n",
    "    if left < n and arr[left] > arr[largest]:\n",
    "        largest = left\n",
    "\n",
    "    # If right child exists and is greater than largest so far\n",
    "    if right < n and arr[right] > arr[largest]:\n",
    "        largest = right\n",
    "\n",
    "    # If largest is not root\n",
    "    if largest != i:\n",
    "        arr[i], arr[largest] = arr[largest], arr[i]  # Swap\n",
    "        # Recursively heapify the affected subtree\n",
    "        heapify(arr, n, largest)\n",
    "\n",
    "def heap_sort(arr):\n",
    "    n = len(arr)\n",
    "    \n",
    "    # Build a maxheap (rearrange array)\n",
    "    # Start from the last non-leaf node (n//2 - 1)\n",
    "    for i in range(n // 2 - 1, -1, -1):\n",
    "        heapify(arr, n, i)\n",
    "    \n",
    "    # One by one extract elements\n",
    "    for i in range(n - 1, 0, -1):\n",
    "        # Move current root to end\n",
    "        arr[i], arr[0] = arr[0], arr[i]\n",
    "        # Call max heapify on the reduced heap\n",
    "        heapify(arr, i, 0)\n",
    "    \n",
    "    return arr\n",
    "\n",
    "# Example usage\n",
    "arr = [12, 11, 13, 5, 6, 7]\n",
    "print(\"Original array:\", arr)\n",
    "sorted_arr = heap_sort(arr.copy())\n",
    "print(\"Sorted array:\", sorted_arr)"
   ]
  },
  {
   "cell_type": "code",
   "execution_count": null,
   "id": "93cdb7a4-d0eb-488f-ae39-b98d6d1bf60b",
   "metadata": {},
   "outputs": [],
   "source": []
  }
 ],
 "metadata": {
  "kernelspec": {
   "display_name": "Python [conda env:base] *",
   "language": "python",
   "name": "conda-base-py"
  },
  "language_info": {
   "codemirror_mode": {
    "name": "ipython",
    "version": 3
   },
   "file_extension": ".py",
   "mimetype": "text/x-python",
   "name": "python",
   "nbconvert_exporter": "python",
   "pygments_lexer": "ipython3",
   "version": "3.12.7"
  }
 },
 "nbformat": 4,
 "nbformat_minor": 5
}
