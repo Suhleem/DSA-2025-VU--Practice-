{
 "cells": [
  {
   "cell_type": "markdown",
   "id": "2acb4266",
   "metadata": {},
   "source": [
    "# 📘 Basic Sorting Algorithms in Python\n",
    "This notebook covers the basic sorting algorithms: **Bubble Sort**, **Selection Sort**, **Insertion Sort**, **Merge Sort** and **Radix Sort**, along with code and explanations."
   ]
  },
  {
   "cell_type": "markdown",
   "id": "68f94d5a",
   "metadata": {},
   "source": [
    "## 🔵 Bubble Sort\n",
    "**Concept:**\n",
    "- Repeatedly compare and swap adjacent elements if they are in the wrong order."
   ]
  },
  {
   "cell_type": "code",
   "execution_count": null,
   "id": "6b923067",
   "metadata": {},
   "outputs": [],
   "source": [
    "\n",
    "def bubble_sort(arr):\n",
    "    n = len(arr)\n",
    "    for i in range(n):\n",
    "        for j in range(0, n - i - 1):\n",
    "            if arr[j] > arr[j + 1]:\n",
    "                arr[j], arr[j + 1] = arr[j + 1], arr[j]\n",
    "\n",
    "# Example\n",
    "data = [64, 34, 25, 12, 22, 11, 90]\n",
    "bubble_sort(data)\n",
    "print(\"Sorted array is:\", data)\n"
   ]
  },
  {
   "cell_type": "markdown",
   "id": "bb026f7b",
   "metadata": {},
   "source": [
    "## 🟠 Selection Sort\n",
    "**Concept:**\n",
    "- Find the minimum element and place it at the beginning.\n",
    "- Repeat for the unsorted part."
   ]
  },
  {
   "cell_type": "code",
   "execution_count": null,
   "id": "eeb115dd",
   "metadata": {},
   "outputs": [],
   "source": [
    "\n",
    "def selection_sort(arr):\n",
    "    n = len(arr)\n",
    "    for i in range(n):\n",
    "        min_idx = i\n",
    "        for j in range(i + 1, n):\n",
    "            if arr[j] < arr[min_idx]:\n",
    "                min_idx = j\n",
    "        arr[i], arr[min_idx] = arr[min_idx], arr[i]\n",
    "\n",
    "# Example\n",
    "data = [29, 10, 14, 37, 13]\n",
    "selection_sort(data)\n",
    "print(\"Sorted array is:\", data)\n"
   ]
  },
  {
   "cell_type": "markdown",
   "id": "f48c33c9",
   "metadata": {},
   "source": [
    "## 🟢 Insertion Sort\n",
    "**Concept:**\n",
    "- Build the sorted list one item at a time by inserting each element into its correct position."
   ]
  },
  {
   "cell_type": "code",
   "execution_count": null,
   "id": "41eb2b57",
   "metadata": {},
   "outputs": [],
   "source": [
    "\n",
    "def insertion_sort(arr):\n",
    "    for i in range(1, len(arr)):\n",
    "        key = arr[i]\n",
    "        j = i - 1\n",
    "        while j >= 0 and arr[j] > key:\n",
    "            arr[j + 1] = arr[j]\n",
    "            j -= 1\n",
    "        arr[j + 1] = key\n",
    "\n",
    "# Example\n",
    "data = [12, 11, 13, 5, 6]\n",
    "insertion_sort(data)\n",
    "print(\"Sorted array is:\", data)\n"
   ]
  },
  {
   "cell_type": "markdown",
   "id": "73b003ef",
   "metadata": {},
   "source": [
    "## 🟣 Radix Sort\n",
    "**Concept:**\n",
    "- Non-comparison-based sorting algorithm.\n",
    "- Sort elements based on digits, starting from the least significant digit (LSD)."
   ]
  },
  {
   "cell_type": "code",
   "execution_count": null,
   "id": "31291503",
   "metadata": {},
   "outputs": [],
   "source": [
    "\n",
    "def counting_sort_for_radix(arr, exp):\n",
    "    n = len(arr)\n",
    "    output = [0] * n\n",
    "    count = [0] * 10\n",
    "\n",
    "    for i in range(n):\n",
    "        index = arr[i] // exp\n",
    "        count[index % 10] += 1\n",
    "\n",
    "    for i in range(1, 10):\n",
    "        count[i] += count[i - 1]\n",
    "\n",
    "    i = n - 1\n",
    "    while i >= 0:\n",
    "        index = arr[i] // exp\n",
    "        output[count[index % 10] - 1] = arr[i]\n",
    "        count[index % 10] -= 1\n",
    "        i -= 1\n",
    "\n",
    "    for i in range(n):\n",
    "        arr[i] = output[i]\n",
    "\n",
    "def radix_sort(arr):\n",
    "    max_val = max(arr)\n",
    "    exp = 1\n",
    "    while max_val // exp > 0:\n",
    "        counting_sort_for_radix(arr, exp)\n",
    "        exp *= 10\n",
    "\n",
    "# Example\n",
    "data = [170, 45, 75, 90, 802, 24, 2, 66]\n",
    "radix_sort(data)\n",
    "print(\"Sorted array is:\", data)\n"
   ]
  }
 ],
 "metadata": {
  "kernelspec": {
   "display_name": "Python [conda env:base] *",
   "language": "python",
   "name": "conda-base-py"
  },
  "language_info": {
   "codemirror_mode": {
    "name": "ipython",
    "version": 3
   },
   "file_extension": ".py",
   "mimetype": "text/x-python",
   "name": "python",
   "nbconvert_exporter": "python",
   "pygments_lexer": "ipython3",
   "version": "3.12.7"
  }
 },
 "nbformat": 4,
 "nbformat_minor": 5
}
